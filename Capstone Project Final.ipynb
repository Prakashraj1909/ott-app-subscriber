{
 "cells": [
  {
   "cell_type": "markdown",
   "id": "4d8c9163",
   "metadata": {},
   "source": [
    "#  OTT APPLICATION  CHURN PREDICTION"
   ]
  },
  {
   "cell_type": "markdown",
   "id": "4491492d",
   "metadata": {},
   "source": [
    "Churn is the rate at which subscribers to a particular OTT service cancel their subscriptions or not."
   ]
  },
  {
   "cell_type": "code",
   "execution_count": 1,
   "id": "333e006a",
   "metadata": {},
   "outputs": [],
   "source": [
    "import pandas as pd\n",
    "import numpy as np\n",
    "import seaborn as sns\n",
    "import matplotlib.pyplot as plt"
   ]
  },
  {
   "cell_type": "code",
   "execution_count": 2,
   "id": "e7acb2b2",
   "metadata": {},
   "outputs": [],
   "source": [
    "df=pd.read_csv(\"D:\\\\PROJECT IDEAS\\\\capstone project\\\\OTT FINAL dataset.csv\")"
   ]
  },
  {
   "cell_type": "code",
   "execution_count": 3,
   "id": "a6d238d9",
   "metadata": {},
   "outputs": [
    {
     "data": {
      "text/plain": [
       "(10000, 16)"
      ]
     },
     "execution_count": 3,
     "metadata": {},
     "output_type": "execute_result"
    }
   ],
   "source": [
    "df.shape"
   ]
  },
  {
   "cell_type": "code",
   "execution_count": 4,
   "id": "cd675a48",
   "metadata": {},
   "outputs": [
    {
     "data": {
      "text/html": [
       "<div>\n",
       "<style scoped>\n",
       "    .dataframe tbody tr th:only-of-type {\n",
       "        vertical-align: middle;\n",
       "    }\n",
       "\n",
       "    .dataframe tbody tr th {\n",
       "        vertical-align: top;\n",
       "    }\n",
       "\n",
       "    .dataframe thead th {\n",
       "        text-align: right;\n",
       "    }\n",
       "</style>\n",
       "<table border=\"1\" class=\"dataframe\">\n",
       "  <thead>\n",
       "    <tr style=\"text-align: right;\">\n",
       "      <th></th>\n",
       "      <th>year</th>\n",
       "      <th>customer_id</th>\n",
       "      <th>phone_no</th>\n",
       "      <th>gender</th>\n",
       "      <th>age</th>\n",
       "      <th>no_of_days_subscribed</th>\n",
       "      <th>multi_screen</th>\n",
       "      <th>mail_subscribed</th>\n",
       "      <th>weekly_mins_watched</th>\n",
       "      <th>minimum_daily_mins</th>\n",
       "      <th>maximum_daily_mins</th>\n",
       "      <th>weekly_max_night_mins</th>\n",
       "      <th>videos_watched</th>\n",
       "      <th>maximum_days_inactive</th>\n",
       "      <th>customer_support_calls</th>\n",
       "      <th>churn</th>\n",
       "    </tr>\n",
       "  </thead>\n",
       "  <tbody>\n",
       "    <tr>\n",
       "      <th>0</th>\n",
       "      <td>2020</td>\n",
       "      <td>717810</td>\n",
       "      <td>410-5455</td>\n",
       "      <td>Male</td>\n",
       "      <td>53</td>\n",
       "      <td>99</td>\n",
       "      <td>no</td>\n",
       "      <td>no</td>\n",
       "      <td>300.9</td>\n",
       "      <td>9.4</td>\n",
       "      <td>34.10</td>\n",
       "      <td>118</td>\n",
       "      <td>5</td>\n",
       "      <td>3.0</td>\n",
       "      <td>2.0</td>\n",
       "      <td>0</td>\n",
       "    </tr>\n",
       "    <tr>\n",
       "      <th>1</th>\n",
       "      <td>2020</td>\n",
       "      <td>936990</td>\n",
       "      <td>342-3017</td>\n",
       "      <td>Male</td>\n",
       "      <td>41</td>\n",
       "      <td>120</td>\n",
       "      <td>no</td>\n",
       "      <td>no</td>\n",
       "      <td>201.8</td>\n",
       "      <td>9.3</td>\n",
       "      <td>22.80</td>\n",
       "      <td>80</td>\n",
       "      <td>3</td>\n",
       "      <td>3.0</td>\n",
       "      <td>1.0</td>\n",
       "      <td>0</td>\n",
       "    </tr>\n",
       "    <tr>\n",
       "      <th>2</th>\n",
       "      <td>2020</td>\n",
       "      <td>683865</td>\n",
       "      <td>345-1220</td>\n",
       "      <td>Male</td>\n",
       "      <td>58</td>\n",
       "      <td>96</td>\n",
       "      <td>no</td>\n",
       "      <td>no</td>\n",
       "      <td>249.7</td>\n",
       "      <td>7.5</td>\n",
       "      <td>28.37</td>\n",
       "      <td>95</td>\n",
       "      <td>5</td>\n",
       "      <td>3.0</td>\n",
       "      <td>0.0</td>\n",
       "      <td>0</td>\n",
       "    </tr>\n",
       "    <tr>\n",
       "      <th>3</th>\n",
       "      <td>2020</td>\n",
       "      <td>698399</td>\n",
       "      <td>388-5628</td>\n",
       "      <td>Male</td>\n",
       "      <td>41</td>\n",
       "      <td>22</td>\n",
       "      <td>no</td>\n",
       "      <td>no</td>\n",
       "      <td>293.1</td>\n",
       "      <td>11.0</td>\n",
       "      <td>33.22</td>\n",
       "      <td>73</td>\n",
       "      <td>3</td>\n",
       "      <td>3.0</td>\n",
       "      <td>1.0</td>\n",
       "      <td>0</td>\n",
       "    </tr>\n",
       "    <tr>\n",
       "      <th>4</th>\n",
       "      <td>2020</td>\n",
       "      <td>848832</td>\n",
       "      <td>334-4614</td>\n",
       "      <td>Male</td>\n",
       "      <td>45</td>\n",
       "      <td>101</td>\n",
       "      <td>no</td>\n",
       "      <td>no</td>\n",
       "      <td>199.5</td>\n",
       "      <td>4.5</td>\n",
       "      <td>22.61</td>\n",
       "      <td>107</td>\n",
       "      <td>3</td>\n",
       "      <td>2.0</td>\n",
       "      <td>1.0</td>\n",
       "      <td>0</td>\n",
       "    </tr>\n",
       "  </tbody>\n",
       "</table>\n",
       "</div>"
      ],
      "text/plain": [
       "   year  customer_id  phone_no gender  age  no_of_days_subscribed  \\\n",
       "0  2020       717810  410-5455   Male   53                     99   \n",
       "1  2020       936990  342-3017   Male   41                    120   \n",
       "2  2020       683865  345-1220   Male   58                     96   \n",
       "3  2020       698399  388-5628   Male   41                     22   \n",
       "4  2020       848832  334-4614   Male   45                    101   \n",
       "\n",
       "  multi_screen mail_subscribed  weekly_mins_watched  minimum_daily_mins  \\\n",
       "0           no              no                300.9                 9.4   \n",
       "1           no              no                201.8                 9.3   \n",
       "2           no              no                249.7                 7.5   \n",
       "3           no              no                293.1                11.0   \n",
       "4           no              no                199.5                 4.5   \n",
       "\n",
       "   maximum_daily_mins  weekly_max_night_mins  videos_watched  \\\n",
       "0               34.10                    118               5   \n",
       "1               22.80                     80               3   \n",
       "2               28.37                     95               5   \n",
       "3               33.22                     73               3   \n",
       "4               22.61                    107               3   \n",
       "\n",
       "   maximum_days_inactive  customer_support_calls  churn  \n",
       "0                    3.0                     2.0      0  \n",
       "1                    3.0                     1.0      0  \n",
       "2                    3.0                     0.0      0  \n",
       "3                    3.0                     1.0      0  \n",
       "4                    2.0                     1.0      0  "
      ]
     },
     "execution_count": 4,
     "metadata": {},
     "output_type": "execute_result"
    }
   ],
   "source": [
    "df.head()"
   ]
  },
  {
   "cell_type": "code",
   "execution_count": 5,
   "id": "50a77b24",
   "metadata": {},
   "outputs": [
    {
     "data": {
      "text/html": [
       "<div>\n",
       "<style scoped>\n",
       "    .dataframe tbody tr th:only-of-type {\n",
       "        vertical-align: middle;\n",
       "    }\n",
       "\n",
       "    .dataframe tbody tr th {\n",
       "        vertical-align: top;\n",
       "    }\n",
       "\n",
       "    .dataframe thead th {\n",
       "        text-align: right;\n",
       "    }\n",
       "</style>\n",
       "<table border=\"1\" class=\"dataframe\">\n",
       "  <thead>\n",
       "    <tr style=\"text-align: right;\">\n",
       "      <th></th>\n",
       "      <th>year</th>\n",
       "      <th>customer_id</th>\n",
       "      <th>age</th>\n",
       "      <th>no_of_days_subscribed</th>\n",
       "      <th>weekly_mins_watched</th>\n",
       "      <th>minimum_daily_mins</th>\n",
       "      <th>maximum_daily_mins</th>\n",
       "      <th>weekly_max_night_mins</th>\n",
       "      <th>videos_watched</th>\n",
       "      <th>maximum_days_inactive</th>\n",
       "      <th>customer_support_calls</th>\n",
       "      <th>churn</th>\n",
       "    </tr>\n",
       "  </thead>\n",
       "  <tbody>\n",
       "    <tr>\n",
       "      <th>count</th>\n",
       "      <td>10000.0</td>\n",
       "      <td>10000.000000</td>\n",
       "      <td>10000.00000</td>\n",
       "      <td>10000.000000</td>\n",
       "      <td>10000.000000</td>\n",
       "      <td>10000.000000</td>\n",
       "      <td>10000.000000</td>\n",
       "      <td>10000.000000</td>\n",
       "      <td>10000.000000</td>\n",
       "      <td>9928.000000</td>\n",
       "      <td>9998.000000</td>\n",
       "      <td>10000.000000</td>\n",
       "    </tr>\n",
       "    <tr>\n",
       "      <th>mean</th>\n",
       "      <td>2020.0</td>\n",
       "      <td>554784.337700</td>\n",
       "      <td>38.14110</td>\n",
       "      <td>99.342100</td>\n",
       "      <td>267.891788</td>\n",
       "      <td>10.484240</td>\n",
       "      <td>30.412801</td>\n",
       "      <td>101.304200</td>\n",
       "      <td>4.393100</td>\n",
       "      <td>3.324839</td>\n",
       "      <td>1.573715</td>\n",
       "      <td>0.123900</td>\n",
       "    </tr>\n",
       "    <tr>\n",
       "      <th>std</th>\n",
       "      <td>0.0</td>\n",
       "      <td>264255.984922</td>\n",
       "      <td>9.76607</td>\n",
       "      <td>38.273196</td>\n",
       "      <td>73.518346</td>\n",
       "      <td>2.395288</td>\n",
       "      <td>8.215298</td>\n",
       "      <td>18.145633</td>\n",
       "      <td>2.339641</td>\n",
       "      <td>0.705388</td>\n",
       "      <td>1.254906</td>\n",
       "      <td>0.329484</td>\n",
       "    </tr>\n",
       "    <tr>\n",
       "      <th>min</th>\n",
       "      <td>2020.0</td>\n",
       "      <td>100198.000000</td>\n",
       "      <td>18.00000</td>\n",
       "      <td>1.000000</td>\n",
       "      <td>0.000000</td>\n",
       "      <td>0.000000</td>\n",
       "      <td>0.000000</td>\n",
       "      <td>42.000000</td>\n",
       "      <td>0.000000</td>\n",
       "      <td>0.000000</td>\n",
       "      <td>0.000000</td>\n",
       "      <td>0.000000</td>\n",
       "    </tr>\n",
       "    <tr>\n",
       "      <th>25%</th>\n",
       "      <td>2020.0</td>\n",
       "      <td>327810.500000</td>\n",
       "      <td>31.00000</td>\n",
       "      <td>72.750000</td>\n",
       "      <td>222.750000</td>\n",
       "      <td>9.000000</td>\n",
       "      <td>25.250000</td>\n",
       "      <td>89.000000</td>\n",
       "      <td>3.000000</td>\n",
       "      <td>3.000000</td>\n",
       "      <td>1.000000</td>\n",
       "      <td>0.000000</td>\n",
       "    </tr>\n",
       "    <tr>\n",
       "      <th>50%</th>\n",
       "      <td>2020.0</td>\n",
       "      <td>568624.000000</td>\n",
       "      <td>37.00000</td>\n",
       "      <td>98.000000</td>\n",
       "      <td>261.700000</td>\n",
       "      <td>10.600000</td>\n",
       "      <td>29.670000</td>\n",
       "      <td>102.000000</td>\n",
       "      <td>4.000000</td>\n",
       "      <td>3.000000</td>\n",
       "      <td>1.000000</td>\n",
       "      <td>0.000000</td>\n",
       "    </tr>\n",
       "    <tr>\n",
       "      <th>75%</th>\n",
       "      <td>2020.0</td>\n",
       "      <td>785003.000000</td>\n",
       "      <td>43.00000</td>\n",
       "      <td>125.000000</td>\n",
       "      <td>317.500000</td>\n",
       "      <td>12.000000</td>\n",
       "      <td>35.990000</td>\n",
       "      <td>114.000000</td>\n",
       "      <td>6.000000</td>\n",
       "      <td>4.000000</td>\n",
       "      <td>2.000000</td>\n",
       "      <td>0.000000</td>\n",
       "    </tr>\n",
       "    <tr>\n",
       "      <th>max</th>\n",
       "      <td>2020.0</td>\n",
       "      <td>999961.000000</td>\n",
       "      <td>82.00000</td>\n",
       "      <td>241.000000</td>\n",
       "      <td>526.200000</td>\n",
       "      <td>20.000000</td>\n",
       "      <td>59.640000</td>\n",
       "      <td>167.000000</td>\n",
       "      <td>19.000000</td>\n",
       "      <td>6.000000</td>\n",
       "      <td>9.000000</td>\n",
       "      <td>1.000000</td>\n",
       "    </tr>\n",
       "  </tbody>\n",
       "</table>\n",
       "</div>"
      ],
      "text/plain": [
       "          year    customer_id          age  no_of_days_subscribed  \\\n",
       "count  10000.0   10000.000000  10000.00000           10000.000000   \n",
       "mean    2020.0  554784.337700     38.14110              99.342100   \n",
       "std        0.0  264255.984922      9.76607              38.273196   \n",
       "min     2020.0  100198.000000     18.00000               1.000000   \n",
       "25%     2020.0  327810.500000     31.00000              72.750000   \n",
       "50%     2020.0  568624.000000     37.00000              98.000000   \n",
       "75%     2020.0  785003.000000     43.00000             125.000000   \n",
       "max     2020.0  999961.000000     82.00000             241.000000   \n",
       "\n",
       "       weekly_mins_watched  minimum_daily_mins  maximum_daily_mins  \\\n",
       "count         10000.000000        10000.000000        10000.000000   \n",
       "mean            267.891788           10.484240           30.412801   \n",
       "std              73.518346            2.395288            8.215298   \n",
       "min               0.000000            0.000000            0.000000   \n",
       "25%             222.750000            9.000000           25.250000   \n",
       "50%             261.700000           10.600000           29.670000   \n",
       "75%             317.500000           12.000000           35.990000   \n",
       "max             526.200000           20.000000           59.640000   \n",
       "\n",
       "       weekly_max_night_mins  videos_watched  maximum_days_inactive  \\\n",
       "count           10000.000000    10000.000000            9928.000000   \n",
       "mean              101.304200        4.393100               3.324839   \n",
       "std                18.145633        2.339641               0.705388   \n",
       "min                42.000000        0.000000               0.000000   \n",
       "25%                89.000000        3.000000               3.000000   \n",
       "50%               102.000000        4.000000               3.000000   \n",
       "75%               114.000000        6.000000               4.000000   \n",
       "max               167.000000       19.000000               6.000000   \n",
       "\n",
       "       customer_support_calls         churn  \n",
       "count             9998.000000  10000.000000  \n",
       "mean                 1.573715      0.123900  \n",
       "std                  1.254906      0.329484  \n",
       "min                  0.000000      0.000000  \n",
       "25%                  1.000000      0.000000  \n",
       "50%                  1.000000      0.000000  \n",
       "75%                  2.000000      0.000000  \n",
       "max                  9.000000      1.000000  "
      ]
     },
     "execution_count": 5,
     "metadata": {},
     "output_type": "execute_result"
    }
   ],
   "source": [
    "df.describe()"
   ]
  },
  {
   "cell_type": "code",
   "execution_count": 6,
   "id": "02f1c03b",
   "metadata": {},
   "outputs": [
    {
     "data": {
      "text/plain": [
       "Index(['year', 'customer_id', 'phone_no', 'gender', 'age',\n",
       "       'no_of_days_subscribed', 'multi_screen', 'mail_subscribed',\n",
       "       'weekly_mins_watched', 'minimum_daily_mins', 'maximum_daily_mins',\n",
       "       'weekly_max_night_mins', 'videos_watched', 'maximum_days_inactive',\n",
       "       'customer_support_calls', 'churn'],\n",
       "      dtype='object')"
      ]
     },
     "execution_count": 6,
     "metadata": {},
     "output_type": "execute_result"
    }
   ],
   "source": [
    "df.columns"
   ]
  },
  {
   "cell_type": "code",
   "execution_count": 7,
   "id": "babe9dec",
   "metadata": {},
   "outputs": [
    {
     "data": {
      "text/plain": [
       "year                         1\n",
       "customer_id               7455\n",
       "phone_no                  9147\n",
       "gender                       2\n",
       "age                         64\n",
       "no_of_days_subscribed      221\n",
       "multi_screen                 2\n",
       "mail_subscribed              2\n",
       "weekly_mins_watched       3483\n",
       "minimum_daily_mins         154\n",
       "maximum_daily_mins        2073\n",
       "weekly_max_night_mins      115\n",
       "videos_watched              20\n",
       "maximum_days_inactive        7\n",
       "customer_support_calls      10\n",
       "churn                        2\n",
       "dtype: int64"
      ]
     },
     "execution_count": 7,
     "metadata": {},
     "output_type": "execute_result"
    }
   ],
   "source": [
    "df.nunique()"
   ]
  },
  {
   "cell_type": "markdown",
   "id": "1071fd44",
   "metadata": {},
   "source": [
    "# REMOVING JUNK FEATURES"
   ]
  },
  {
   "cell_type": "code",
   "execution_count": 8,
   "id": "47796faa",
   "metadata": {},
   "outputs": [],
   "source": [
    "data=df.drop(['year','customer_id','phone_no','age'],axis=1)"
   ]
  },
  {
   "cell_type": "code",
   "execution_count": 9,
   "id": "5583df54",
   "metadata": {},
   "outputs": [
    {
     "data": {
      "text/html": [
       "<div>\n",
       "<style scoped>\n",
       "    .dataframe tbody tr th:only-of-type {\n",
       "        vertical-align: middle;\n",
       "    }\n",
       "\n",
       "    .dataframe tbody tr th {\n",
       "        vertical-align: top;\n",
       "    }\n",
       "\n",
       "    .dataframe thead th {\n",
       "        text-align: right;\n",
       "    }\n",
       "</style>\n",
       "<table border=\"1\" class=\"dataframe\">\n",
       "  <thead>\n",
       "    <tr style=\"text-align: right;\">\n",
       "      <th></th>\n",
       "      <th>gender</th>\n",
       "      <th>no_of_days_subscribed</th>\n",
       "      <th>multi_screen</th>\n",
       "      <th>mail_subscribed</th>\n",
       "      <th>weekly_mins_watched</th>\n",
       "      <th>minimum_daily_mins</th>\n",
       "      <th>maximum_daily_mins</th>\n",
       "      <th>weekly_max_night_mins</th>\n",
       "      <th>videos_watched</th>\n",
       "      <th>maximum_days_inactive</th>\n",
       "      <th>customer_support_calls</th>\n",
       "      <th>churn</th>\n",
       "    </tr>\n",
       "  </thead>\n",
       "  <tbody>\n",
       "    <tr>\n",
       "      <th>0</th>\n",
       "      <td>Male</td>\n",
       "      <td>99</td>\n",
       "      <td>no</td>\n",
       "      <td>no</td>\n",
       "      <td>300.90</td>\n",
       "      <td>9.4</td>\n",
       "      <td>34.10</td>\n",
       "      <td>118</td>\n",
       "      <td>5</td>\n",
       "      <td>3.0</td>\n",
       "      <td>2.0</td>\n",
       "      <td>0</td>\n",
       "    </tr>\n",
       "    <tr>\n",
       "      <th>1</th>\n",
       "      <td>Male</td>\n",
       "      <td>120</td>\n",
       "      <td>no</td>\n",
       "      <td>no</td>\n",
       "      <td>201.80</td>\n",
       "      <td>9.3</td>\n",
       "      <td>22.80</td>\n",
       "      <td>80</td>\n",
       "      <td>3</td>\n",
       "      <td>3.0</td>\n",
       "      <td>1.0</td>\n",
       "      <td>0</td>\n",
       "    </tr>\n",
       "    <tr>\n",
       "      <th>2</th>\n",
       "      <td>Male</td>\n",
       "      <td>96</td>\n",
       "      <td>no</td>\n",
       "      <td>no</td>\n",
       "      <td>249.70</td>\n",
       "      <td>7.5</td>\n",
       "      <td>28.37</td>\n",
       "      <td>95</td>\n",
       "      <td>5</td>\n",
       "      <td>3.0</td>\n",
       "      <td>0.0</td>\n",
       "      <td>0</td>\n",
       "    </tr>\n",
       "    <tr>\n",
       "      <th>3</th>\n",
       "      <td>Male</td>\n",
       "      <td>22</td>\n",
       "      <td>no</td>\n",
       "      <td>no</td>\n",
       "      <td>293.10</td>\n",
       "      <td>11.0</td>\n",
       "      <td>33.22</td>\n",
       "      <td>73</td>\n",
       "      <td>3</td>\n",
       "      <td>3.0</td>\n",
       "      <td>1.0</td>\n",
       "      <td>0</td>\n",
       "    </tr>\n",
       "    <tr>\n",
       "      <th>4</th>\n",
       "      <td>Male</td>\n",
       "      <td>101</td>\n",
       "      <td>no</td>\n",
       "      <td>no</td>\n",
       "      <td>199.50</td>\n",
       "      <td>4.5</td>\n",
       "      <td>22.61</td>\n",
       "      <td>107</td>\n",
       "      <td>3</td>\n",
       "      <td>2.0</td>\n",
       "      <td>1.0</td>\n",
       "      <td>0</td>\n",
       "    </tr>\n",
       "    <tr>\n",
       "      <th>...</th>\n",
       "      <td>...</td>\n",
       "      <td>...</td>\n",
       "      <td>...</td>\n",
       "      <td>...</td>\n",
       "      <td>...</td>\n",
       "      <td>...</td>\n",
       "      <td>...</td>\n",
       "      <td>...</td>\n",
       "      <td>...</td>\n",
       "      <td>...</td>\n",
       "      <td>...</td>\n",
       "      <td>...</td>\n",
       "    </tr>\n",
       "    <tr>\n",
       "      <th>9995</th>\n",
       "      <td>Female</td>\n",
       "      <td>192</td>\n",
       "      <td>no</td>\n",
       "      <td>no</td>\n",
       "      <td>364.55</td>\n",
       "      <td>12.7</td>\n",
       "      <td>41.49</td>\n",
       "      <td>83</td>\n",
       "      <td>2</td>\n",
       "      <td>4.0</td>\n",
       "      <td>1.0</td>\n",
       "      <td>0</td>\n",
       "    </tr>\n",
       "    <tr>\n",
       "      <th>9996</th>\n",
       "      <td>Female</td>\n",
       "      <td>110</td>\n",
       "      <td>no</td>\n",
       "      <td>yes</td>\n",
       "      <td>314.80</td>\n",
       "      <td>7.4</td>\n",
       "      <td>35.68</td>\n",
       "      <td>107</td>\n",
       "      <td>1</td>\n",
       "      <td>2.0</td>\n",
       "      <td>2.0</td>\n",
       "      <td>0</td>\n",
       "    </tr>\n",
       "    <tr>\n",
       "      <th>9997</th>\n",
       "      <td>Female</td>\n",
       "      <td>150</td>\n",
       "      <td>no</td>\n",
       "      <td>no</td>\n",
       "      <td>264.75</td>\n",
       "      <td>6.6</td>\n",
       "      <td>29.99</td>\n",
       "      <td>113</td>\n",
       "      <td>3</td>\n",
       "      <td>2.0</td>\n",
       "      <td>1.0</td>\n",
       "      <td>0</td>\n",
       "    </tr>\n",
       "    <tr>\n",
       "      <th>9998</th>\n",
       "      <td>Female</td>\n",
       "      <td>47</td>\n",
       "      <td>no</td>\n",
       "      <td>no</td>\n",
       "      <td>129.45</td>\n",
       "      <td>12.9</td>\n",
       "      <td>14.75</td>\n",
       "      <td>108</td>\n",
       "      <td>5</td>\n",
       "      <td>4.0</td>\n",
       "      <td>1.0</td>\n",
       "      <td>0</td>\n",
       "    </tr>\n",
       "    <tr>\n",
       "      <th>9999</th>\n",
       "      <td>Male</td>\n",
       "      <td>131</td>\n",
       "      <td>yes</td>\n",
       "      <td>no</td>\n",
       "      <td>309.45</td>\n",
       "      <td>12.5</td>\n",
       "      <td>35.07</td>\n",
       "      <td>101</td>\n",
       "      <td>3</td>\n",
       "      <td>4.0</td>\n",
       "      <td>1.0</td>\n",
       "      <td>0</td>\n",
       "    </tr>\n",
       "  </tbody>\n",
       "</table>\n",
       "<p>10000 rows × 12 columns</p>\n",
       "</div>"
      ],
      "text/plain": [
       "      gender  no_of_days_subscribed multi_screen mail_subscribed  \\\n",
       "0       Male                     99           no              no   \n",
       "1       Male                    120           no              no   \n",
       "2       Male                     96           no              no   \n",
       "3       Male                     22           no              no   \n",
       "4       Male                    101           no              no   \n",
       "...      ...                    ...          ...             ...   \n",
       "9995  Female                    192           no              no   \n",
       "9996  Female                    110           no             yes   \n",
       "9997  Female                    150           no              no   \n",
       "9998  Female                     47           no              no   \n",
       "9999    Male                    131          yes              no   \n",
       "\n",
       "      weekly_mins_watched  minimum_daily_mins  maximum_daily_mins  \\\n",
       "0                  300.90                 9.4               34.10   \n",
       "1                  201.80                 9.3               22.80   \n",
       "2                  249.70                 7.5               28.37   \n",
       "3                  293.10                11.0               33.22   \n",
       "4                  199.50                 4.5               22.61   \n",
       "...                   ...                 ...                 ...   \n",
       "9995               364.55                12.7               41.49   \n",
       "9996               314.80                 7.4               35.68   \n",
       "9997               264.75                 6.6               29.99   \n",
       "9998               129.45                12.9               14.75   \n",
       "9999               309.45                12.5               35.07   \n",
       "\n",
       "      weekly_max_night_mins  videos_watched  maximum_days_inactive  \\\n",
       "0                       118               5                    3.0   \n",
       "1                        80               3                    3.0   \n",
       "2                        95               5                    3.0   \n",
       "3                        73               3                    3.0   \n",
       "4                       107               3                    2.0   \n",
       "...                     ...             ...                    ...   \n",
       "9995                     83               2                    4.0   \n",
       "9996                    107               1                    2.0   \n",
       "9997                    113               3                    2.0   \n",
       "9998                    108               5                    4.0   \n",
       "9999                    101               3                    4.0   \n",
       "\n",
       "      customer_support_calls  churn  \n",
       "0                        2.0      0  \n",
       "1                        1.0      0  \n",
       "2                        0.0      0  \n",
       "3                        1.0      0  \n",
       "4                        1.0      0  \n",
       "...                      ...    ...  \n",
       "9995                     1.0      0  \n",
       "9996                     2.0      0  \n",
       "9997                     1.0      0  \n",
       "9998                     1.0      0  \n",
       "9999                     1.0      0  \n",
       "\n",
       "[10000 rows x 12 columns]"
      ]
     },
     "execution_count": 9,
     "metadata": {},
     "output_type": "execute_result"
    }
   ],
   "source": [
    "data"
   ]
  },
  {
   "cell_type": "markdown",
   "id": "1eec5e8c",
   "metadata": {},
   "source": [
    "# CHECKING MISSING VALUE"
   ]
  },
  {
   "cell_type": "code",
   "execution_count": 10,
   "id": "4656a305",
   "metadata": {},
   "outputs": [
    {
     "data": {
      "text/plain": [
       "gender                    56\n",
       "no_of_days_subscribed      0\n",
       "multi_screen               0\n",
       "mail_subscribed            0\n",
       "weekly_mins_watched        0\n",
       "minimum_daily_mins         0\n",
       "maximum_daily_mins         0\n",
       "weekly_max_night_mins      0\n",
       "videos_watched             0\n",
       "maximum_days_inactive     72\n",
       "customer_support_calls     2\n",
       "churn                      0\n",
       "dtype: int64"
      ]
     },
     "execution_count": 10,
     "metadata": {},
     "output_type": "execute_result"
    }
   ],
   "source": [
    "data.isnull().sum()"
   ]
  },
  {
   "cell_type": "code",
   "execution_count": 11,
   "id": "bb29c575",
   "metadata": {
    "scrolled": true
   },
   "outputs": [
    {
     "name": "stdout",
     "output_type": "stream",
     "text": [
      "gender\n",
      "maximum_days_inactive\n",
      "customer_support_calls\n"
     ]
    }
   ],
   "source": [
    "for i in data.columns:\n",
    "    if data[i].isnull().sum()>0:\n",
    "        print(i)"
   ]
  },
  {
   "cell_type": "markdown",
   "id": "3e918770",
   "metadata": {},
   "source": [
    "#  REPLACING MISSING VALUES"
   ]
  },
  {
   "cell_type": "code",
   "execution_count": 12,
   "id": "bb4fbd22",
   "metadata": {},
   "outputs": [],
   "source": [
    "for i in data.columns:\n",
    "    if data[i].isnull().sum()>0:\n",
    "        datype=data[i].dtypes\n",
    "        if datype==float and int:\n",
    "            data[i].fillna(data[i].mean(),inplace=True)\n",
    "        \n",
    "    "
   ]
  },
  {
   "cell_type": "code",
   "execution_count": 13,
   "id": "0d25ef34",
   "metadata": {},
   "outputs": [
    {
     "data": {
      "text/plain": [
       "0    Female\n",
       "Name: gender, dtype: object"
      ]
     },
     "execution_count": 13,
     "metadata": {},
     "output_type": "execute_result"
    }
   ],
   "source": [
    "data[\"gender\"].mode()"
   ]
  },
  {
   "cell_type": "code",
   "execution_count": 14,
   "id": "c283b701",
   "metadata": {},
   "outputs": [],
   "source": [
    "data[\"gender\"].fillna(\"Female\",inplace=True)"
   ]
  },
  {
   "cell_type": "code",
   "execution_count": 15,
   "id": "551f0754",
   "metadata": {
    "scrolled": true
   },
   "outputs": [
    {
     "data": {
      "text/plain": [
       "gender                    0\n",
       "no_of_days_subscribed     0\n",
       "multi_screen              0\n",
       "mail_subscribed           0\n",
       "weekly_mins_watched       0\n",
       "minimum_daily_mins        0\n",
       "maximum_daily_mins        0\n",
       "weekly_max_night_mins     0\n",
       "videos_watched            0\n",
       "maximum_days_inactive     0\n",
       "customer_support_calls    0\n",
       "churn                     0\n",
       "dtype: int64"
      ]
     },
     "execution_count": 15,
     "metadata": {},
     "output_type": "execute_result"
    }
   ],
   "source": [
    "data.isnull().sum()"
   ]
  },
  {
   "cell_type": "code",
   "execution_count": 16,
   "id": "afa87821",
   "metadata": {},
   "outputs": [
    {
     "data": {
      "text/plain": [
       "gender                       2\n",
       "no_of_days_subscribed      221\n",
       "multi_screen                 2\n",
       "mail_subscribed              2\n",
       "weekly_mins_watched       3483\n",
       "minimum_daily_mins         154\n",
       "maximum_daily_mins        2073\n",
       "weekly_max_night_mins      115\n",
       "videos_watched              20\n",
       "maximum_days_inactive        8\n",
       "customer_support_calls      11\n",
       "churn                        2\n",
       "dtype: int64"
      ]
     },
     "execution_count": 16,
     "metadata": {},
     "output_type": "execute_result"
    }
   ],
   "source": [
    "data.nunique()"
   ]
  },
  {
   "cell_type": "markdown",
   "id": "0d05bbdd",
   "metadata": {},
   "source": [
    "# PLOTS"
   ]
  },
  {
   "cell_type": "code",
   "execution_count": 17,
   "id": "9a784294",
   "metadata": {},
   "outputs": [
    {
     "data": {
      "image/png": "[encoded data removed]",
      "text/plain": [
       "<Figure size 640x480 with 1 Axes>"
      ]
     },
     "metadata": {},
     "output_type": "display_data"
    },
    {
     "data": {
      "image/png": "[encoded data removed]",
      "text/plain": [
       "<Figure size 640x480 with 1 Axes>"
      ]
     },
     "metadata": {},
     "output_type": "display_data"
    },
    {
     "data": {
      "image/png": "[encoded data removed]",
      "text/plain": [
       "<Figure size 640x480 with 1 Axes>"
      ]
     },
     "metadata": {},
     "output_type": "display_data"
    }
   ],
   "source": [
    "for i in data.columns:\n",
    "    if data.dtypes[i]== object:\n",
    "        sns.countplot( x=data[i])\n",
    "        plt.xticks(rotation=90)\n",
    "        plt.show()"
   ]
  },
  {
   "cell_type": "markdown",
   "id": "97f529f2",
   "metadata": {},
   "source": [
    "# LABEL ENCODING"
   ]
  },
  {
   "cell_type": "code",
   "execution_count": 18,
   "id": "32dca7f0",
   "metadata": {},
   "outputs": [],
   "source": [
    "from sklearn.preprocessing import LabelEncoder\n",
    "label_encoder=LabelEncoder()"
   ]
  },
  {
   "cell_type": "code",
   "execution_count": 19,
   "id": "466cb062",
   "metadata": {},
   "outputs": [],
   "source": [
    "for i in data.columns:\n",
    "    if data[i].dtypes=='object':\n",
    "        data[i]=label_encoder.fit_transform(data[i])"
   ]
  },
  {
   "cell_type": "code",
   "execution_count": 20,
   "id": "a02cc9f6",
   "metadata": {},
   "outputs": [
    {
     "data": {
      "text/html": [
       "<div>\n",
       "<style scoped>\n",
       "    .dataframe tbody tr th:only-of-type {\n",
       "        vertical-align: middle;\n",
       "    }\n",
       "\n",
       "    .dataframe tbody tr th {\n",
       "        vertical-align: top;\n",
       "    }\n",
       "\n",
       "    .dataframe thead th {\n",
       "        text-align: right;\n",
       "    }\n",
       "</style>\n",
       "<table border=\"1\" class=\"dataframe\">\n",
       "  <thead>\n",
       "    <tr style=\"text-align: right;\">\n",
       "      <th></th>\n",
       "      <th>gender</th>\n",
       "      <th>no_of_days_subscribed</th>\n",
       "      <th>multi_screen</th>\n",
       "      <th>mail_subscribed</th>\n",
       "      <th>weekly_mins_watched</th>\n",
       "      <th>minimum_daily_mins</th>\n",
       "      <th>maximum_daily_mins</th>\n",
       "      <th>weekly_max_night_mins</th>\n",
       "      <th>videos_watched</th>\n",
       "      <th>maximum_days_inactive</th>\n",
       "      <th>customer_support_calls</th>\n",
       "      <th>churn</th>\n",
       "    </tr>\n",
       "  </thead>\n",
       "  <tbody>\n",
       "    <tr>\n",
       "      <th>0</th>\n",
       "      <td>1</td>\n",
       "      <td>99</td>\n",
       "      <td>0</td>\n",
       "      <td>0</td>\n",
       "      <td>300.90</td>\n",
       "      <td>9.4</td>\n",
       "      <td>34.10</td>\n",
       "      <td>118</td>\n",
       "      <td>5</td>\n",
       "      <td>3.0</td>\n",
       "      <td>2.0</td>\n",
       "      <td>0</td>\n",
       "    </tr>\n",
       "    <tr>\n",
       "      <th>1</th>\n",
       "      <td>1</td>\n",
       "      <td>120</td>\n",
       "      <td>0</td>\n",
       "      <td>0</td>\n",
       "      <td>201.80</td>\n",
       "      <td>9.3</td>\n",
       "      <td>22.80</td>\n",
       "      <td>80</td>\n",
       "      <td>3</td>\n",
       "      <td>3.0</td>\n",
       "      <td>1.0</td>\n",
       "      <td>0</td>\n",
       "    </tr>\n",
       "    <tr>\n",
       "      <th>2</th>\n",
       "      <td>1</td>\n",
       "      <td>96</td>\n",
       "      <td>0</td>\n",
       "      <td>0</td>\n",
       "      <td>249.70</td>\n",
       "      <td>7.5</td>\n",
       "      <td>28.37</td>\n",
       "      <td>95</td>\n",
       "      <td>5</td>\n",
       "      <td>3.0</td>\n",
       "      <td>0.0</td>\n",
       "      <td>0</td>\n",
       "    </tr>\n",
       "    <tr>\n",
       "      <th>3</th>\n",
       "      <td>1</td>\n",
       "      <td>22</td>\n",
       "      <td>0</td>\n",
       "      <td>0</td>\n",
       "      <td>293.10</td>\n",
       "      <td>11.0</td>\n",
       "      <td>33.22</td>\n",
       "      <td>73</td>\n",
       "      <td>3</td>\n",
       "      <td>3.0</td>\n",
       "      <td>1.0</td>\n",
       "      <td>0</td>\n",
       "    </tr>\n",
       "    <tr>\n",
       "      <th>4</th>\n",
       "      <td>1</td>\n",
       "      <td>101</td>\n",
       "      <td>0</td>\n",
       "      <td>0</td>\n",
       "      <td>199.50</td>\n",
       "      <td>4.5</td>\n",
       "      <td>22.61</td>\n",
       "      <td>107</td>\n",
       "      <td>3</td>\n",
       "      <td>2.0</td>\n",
       "      <td>1.0</td>\n",
       "      <td>0</td>\n",
       "    </tr>\n",
       "    <tr>\n",
       "      <th>...</th>\n",
       "      <td>...</td>\n",
       "      <td>...</td>\n",
       "      <td>...</td>\n",
       "      <td>...</td>\n",
       "      <td>...</td>\n",
       "      <td>...</td>\n",
       "      <td>...</td>\n",
       "      <td>...</td>\n",
       "      <td>...</td>\n",
       "      <td>...</td>\n",
       "      <td>...</td>\n",
       "      <td>...</td>\n",
       "    </tr>\n",
       "    <tr>\n",
       "      <th>9995</th>\n",
       "      <td>0</td>\n",
       "      <td>192</td>\n",
       "      <td>0</td>\n",
       "      <td>0</td>\n",
       "      <td>364.55</td>\n",
       "      <td>12.7</td>\n",
       "      <td>41.49</td>\n",
       "      <td>83</td>\n",
       "      <td>2</td>\n",
       "      <td>4.0</td>\n",
       "      <td>1.0</td>\n",
       "      <td>0</td>\n",
       "    </tr>\n",
       "    <tr>\n",
       "      <th>9996</th>\n",
       "      <td>0</td>\n",
       "      <td>110</td>\n",
       "      <td>0</td>\n",
       "      <td>1</td>\n",
       "      <td>314.80</td>\n",
       "      <td>7.4</td>\n",
       "      <td>35.68</td>\n",
       "      <td>107</td>\n",
       "      <td>1</td>\n",
       "      <td>2.0</td>\n",
       "      <td>2.0</td>\n",
       "      <td>0</td>\n",
       "    </tr>\n",
       "    <tr>\n",
       "      <th>9997</th>\n",
       "      <td>0</td>\n",
       "      <td>150</td>\n",
       "      <td>0</td>\n",
       "      <td>0</td>\n",
       "      <td>264.75</td>\n",
       "      <td>6.6</td>\n",
       "      <td>29.99</td>\n",
       "      <td>113</td>\n",
       "      <td>3</td>\n",
       "      <td>2.0</td>\n",
       "      <td>1.0</td>\n",
       "      <td>0</td>\n",
       "    </tr>\n",
       "    <tr>\n",
       "      <th>9998</th>\n",
       "      <td>0</td>\n",
       "      <td>47</td>\n",
       "      <td>0</td>\n",
       "      <td>0</td>\n",
       "      <td>129.45</td>\n",
       "      <td>12.9</td>\n",
       "      <td>14.75</td>\n",
       "      <td>108</td>\n",
       "      <td>5</td>\n",
       "      <td>4.0</td>\n",
       "      <td>1.0</td>\n",
       "      <td>0</td>\n",
       "    </tr>\n",
       "    <tr>\n",
       "      <th>9999</th>\n",
       "      <td>1</td>\n",
       "      <td>131</td>\n",
       "      <td>1</td>\n",
       "      <td>0</td>\n",
       "      <td>309.45</td>\n",
       "      <td>12.5</td>\n",
       "      <td>35.07</td>\n",
       "      <td>101</td>\n",
       "      <td>3</td>\n",
       "      <td>4.0</td>\n",
       "      <td>1.0</td>\n",
       "      <td>0</td>\n",
       "    </tr>\n",
       "  </tbody>\n",
       "</table>\n",
       "<p>10000 rows × 12 columns</p>\n",
       "</div>"
      ],
      "text/plain": [
       "      gender  no_of_days_subscribed  multi_screen  mail_subscribed  \\\n",
       "0          1                     99             0                0   \n",
       "1          1                    120             0                0   \n",
       "2          1                     96             0                0   \n",
       "3          1                     22             0                0   \n",
       "4          1                    101             0                0   \n",
       "...      ...                    ...           ...              ...   \n",
       "9995       0                    192             0                0   \n",
       "9996       0                    110             0                1   \n",
       "9997       0                    150             0                0   \n",
       "9998       0                     47             0                0   \n",
       "9999       1                    131             1                0   \n",
       "\n",
       "      weekly_mins_watched  minimum_daily_mins  maximum_daily_mins  \\\n",
       "0                  300.90                 9.4               34.10   \n",
       "1                  201.80                 9.3               22.80   \n",
       "2                  249.70                 7.5               28.37   \n",
       "3                  293.10                11.0               33.22   \n",
       "4                  199.50                 4.5               22.61   \n",
       "...                   ...                 ...                 ...   \n",
       "9995               364.55                12.7               41.49   \n",
       "9996               314.80                 7.4               35.68   \n",
       "9997               264.75                 6.6               29.99   \n",
       "9998               129.45                12.9               14.75   \n",
       "9999               309.45                12.5               35.07   \n",
       "\n",
       "      weekly_max_night_mins  videos_watched  maximum_days_inactive  \\\n",
       "0                       118               5                    3.0   \n",
       "1                        80               3                    3.0   \n",
       "2                        95               5                    3.0   \n",
       "3                        73               3                    3.0   \n",
       "4                       107               3                    2.0   \n",
       "...                     ...             ...                    ...   \n",
       "9995                     83               2                    4.0   \n",
       "9996                    107               1                    2.0   \n",
       "9997                    113               3                    2.0   \n",
       "9998                    108               5                    4.0   \n",
       "9999                    101               3                    4.0   \n",
       "\n",
       "      customer_support_calls  churn  \n",
       "0                        2.0      0  \n",
       "1                        1.0      0  \n",
       "2                        0.0      0  \n",
       "3                        1.0      0  \n",
       "4                        1.0      0  \n",
       "...                      ...    ...  \n",
       "9995                     1.0      0  \n",
       "9996                     2.0      0  \n",
       "9997                     1.0      0  \n",
       "9998                     1.0      0  \n",
       "9999                     1.0      0  \n",
       "\n",
       "[10000 rows x 12 columns]"
      ]
     },
     "execution_count": 20,
     "metadata": {},
     "output_type": "execute_result"
    }
   ],
   "source": [
    "data"
   ]
  },
  {
   "cell_type": "markdown",
   "id": "d6517edb",
   "metadata": {},
   "source": [
    "# OUTLIER  DETECTING"
   ]
  },
  {
   "cell_type": "code",
   "execution_count": 21,
   "id": "3b3f7dcc",
   "metadata": {},
   "outputs": [
    {
     "name": "stdout",
     "output_type": "stream",
     "text": [
      "Requirement already satisfied: pyod in c:\\users\\prakash\\anaconda3\\lib\\site-packages (1.1.2)\n",
      "Requirement already satisfied: joblib in c:\\users\\prakash\\anaconda3\\lib\\site-packages (from pyod) (1.2.0)\n",
      "Requirement already satisfied: matplotlib in c:\\users\\prakash\\anaconda3\\lib\\site-packages (from pyod) (3.7.2)\n",
      "Requirement already satisfied: numpy>=1.19 in c:\\users\\prakash\\anaconda3\\lib\\site-packages (from pyod) (1.24.3)\n",
      "Requirement already satisfied: numba>=0.51 in c:\\users\\prakash\\anaconda3\\lib\\site-packages (from pyod) (0.57.1)\n",
      "Requirement already satisfied: scipy>=1.5.1 in c:\\users\\prakash\\anaconda3\\lib\\site-packages (from pyod) (1.11.1)\n",
      "Requirement already satisfied: scikit-learn>=0.22.0 in c:\\users\\prakash\\anaconda3\\lib\\site-packages (from pyod) (1.3.0)\n",
      "Requirement already satisfied: six in c:\\users\\prakash\\anaconda3\\lib\\site-packages (from pyod) (1.16.0)\n",
      "Requirement already satisfied: llvmlite<0.41,>=0.40.0dev0 in c:\\users\\prakash\\anaconda3\\lib\\site-packages (from numba>=0.51->pyod) (0.40.0)\n",
      "Requirement already satisfied: threadpoolctl>=2.0.0 in c:\\users\\prakash\\anaconda3\\lib\\site-packages (from scikit-learn>=0.22.0->pyod) (2.2.0)\n",
      "Requirement already satisfied: contourpy>=1.0.1 in c:\\users\\prakash\\anaconda3\\lib\\site-packages (from matplotlib->pyod) (1.0.5)\n",
      "Requirement already satisfied: cycler>=0.10 in c:\\users\\prakash\\anaconda3\\lib\\site-packages (from matplotlib->pyod) (0.11.0)\n",
      "Requirement already satisfied: fonttools>=4.22.0 in c:\\users\\prakash\\anaconda3\\lib\\site-packages (from matplotlib->pyod) (4.25.0)\n",
      "Requirement already satisfied: kiwisolver>=1.0.1 in c:\\users\\prakash\\anaconda3\\lib\\site-packages (from matplotlib->pyod) (1.4.4)\n",
      "Requirement already satisfied: packaging>=20.0 in c:\\users\\prakash\\anaconda3\\lib\\site-packages (from matplotlib->pyod) (23.1)\n",
      "Requirement already satisfied: pillow>=6.2.0 in c:\\users\\prakash\\anaconda3\\lib\\site-packages (from matplotlib->pyod) (9.4.0)\n",
      "Requirement already satisfied: pyparsing<3.1,>=2.3.1 in c:\\users\\prakash\\anaconda3\\lib\\site-packages (from matplotlib->pyod) (3.0.9)\n",
      "Requirement already satisfied: python-dateutil>=2.7 in c:\\users\\prakash\\anaconda3\\lib\\site-packages (from matplotlib->pyod) (2.8.2)\n",
      "Note: you may need to restart the kernel to use updated packages.\n"
     ]
    }
   ],
   "source": [
    "pip install pyod"
   ]
  },
  {
   "cell_type": "code",
   "execution_count": 22,
   "id": "24b49063",
   "metadata": {},
   "outputs": [],
   "source": [
    "import pyod"
   ]
  },
  {
   "cell_type": "code",
   "execution_count": 23,
   "id": "960c538c",
   "metadata": {},
   "outputs": [],
   "source": [
    "from pyod.models.cblof import CBLOF\n",
    "from pyod.models.lof import LOF\n",
    "from pyod.models.iforest import IForest\n",
    "from pyod.models.ocsvm import OCSVM\n",
    "from pyod.models.knn import KNN\n",
    "from pyod.models.pca import PCA\n",
    "from warnings import filterwarnings\n",
    "filterwarnings(\"ignore\")"
   ]
  },
  {
   "cell_type": "code",
   "execution_count": 24,
   "id": "dac1e6e9",
   "metadata": {},
   "outputs": [],
   "source": [
    "model_list=[CBLOF(),IForest(),OCSVM(),KNN(),PCA()]\n",
    "model_name=[\"cblof\",\"iforest\",\"ocsvm\",\"knn\",\"pca\"]"
   ]
  },
  {
   "cell_type": "code",
   "execution_count": 25,
   "id": "07832254",
   "metadata": {},
   "outputs": [],
   "source": [
    "out_model_dfs={}\n",
    "out_records=np.zeros((data.shape[0],))\n",
    "for i,j in zip(model_name,model_list):\n",
    "    out_model_dfs[i]=j.fit(data)\n",
    "    out_records+=out_model_dfs[i].predict(data)"
   ]
  },
  {
   "cell_type": "code",
   "execution_count": 26,
   "id": "25ab2f06",
   "metadata": {},
   "outputs": [],
   "source": [
    "pos_out=[]\n",
    "for i,j in enumerate(out_records):\n",
    "    if j>=3:\n",
    "        pos_out.append(i)"
   ]
  },
  {
   "cell_type": "code",
   "execution_count": 27,
   "id": "5392ed2d",
   "metadata": {},
   "outputs": [
    {
     "data": {
      "text/plain": [
       "[69,\n",
       " 92,\n",
       " 141,\n",
       " 180,\n",
       " 195,\n",
       " 244,\n",
       " 249,\n",
       " 259,\n",
       " 260,\n",
       " 269,\n",
       " 357,\n",
       " 364,\n",
       " 369,\n",
       " 379,\n",
       " 412,\n",
       " 449,\n",
       " 453,\n",
       " 456,\n",
       " 480,\n",
       " 520,\n",
       " 524,\n",
       " 525,\n",
       " 544,\n",
       " 570,\n",
       " 590,\n",
       " 719,\n",
       " 754,\n",
       " 815,\n",
       " 846,\n",
       " 896,\n",
       " 907,\n",
       " 908,\n",
       " 996,\n",
       " 1022,\n",
       " 1041,\n",
       " 1058,\n",
       " 1062,\n",
       " 1077,\n",
       " 1083,\n",
       " 1123,\n",
       " 1135,\n",
       " 1192,\n",
       " 1229,\n",
       " 1233,\n",
       " 1262,\n",
       " 1282,\n",
       " 1290,\n",
       " 1291,\n",
       " 1337,\n",
       " 1372,\n",
       " 1376,\n",
       " 1388,\n",
       " 1403,\n",
       " 1417,\n",
       " 1426,\n",
       " 1430,\n",
       " 1457,\n",
       " 1464,\n",
       " 1469,\n",
       " 1483,\n",
       " 1493,\n",
       " 1683,\n",
       " 1695,\n",
       " 1739,\n",
       " 1740,\n",
       " 1829,\n",
       " 1847,\n",
       " 1895,\n",
       " 1898,\n",
       " 1907,\n",
       " 1918,\n",
       " 1965,\n",
       " 1969,\n",
       " 1970,\n",
       " 2008,\n",
       " 2039,\n",
       " 2041,\n",
       " 2043,\n",
       " 2060,\n",
       " 2063,\n",
       " 2114,\n",
       " 2143,\n",
       " 2144,\n",
       " 2159,\n",
       " 2181,\n",
       " 2195,\n",
       " 2196,\n",
       " 2265,\n",
       " 2286,\n",
       " 2290,\n",
       " 2326,\n",
       " 2329,\n",
       " 2392,\n",
       " 2428,\n",
       " 2443,\n",
       " 2454,\n",
       " 2512,\n",
       " 2525,\n",
       " 2544,\n",
       " 2551,\n",
       " 2618,\n",
       " 2619,\n",
       " 2628,\n",
       " 2647,\n",
       " 2659,\n",
       " 2663,\n",
       " 2678,\n",
       " 2681,\n",
       " 2686,\n",
       " 2701,\n",
       " 2704,\n",
       " 2729,\n",
       " 2802,\n",
       " 2845,\n",
       " 2882,\n",
       " 2909,\n",
       " 2928,\n",
       " 3036,\n",
       " 3075,\n",
       " 3113,\n",
       " 3123,\n",
       " 3165,\n",
       " 3187,\n",
       " 3273,\n",
       " 3284,\n",
       " 3322,\n",
       " 3330,\n",
       " 3334,\n",
       " 3413,\n",
       " 3450,\n",
       " 3458,\n",
       " 3463,\n",
       " 3473,\n",
       " 3476,\n",
       " 3545,\n",
       " 3548,\n",
       " 3564,\n",
       " 3597,\n",
       " 3599,\n",
       " 3607,\n",
       " 3612,\n",
       " 3615,\n",
       " 3659,\n",
       " 3676,\n",
       " 3704,\n",
       " 3705,\n",
       " 3716,\n",
       " 3717,\n",
       " 3718,\n",
       " 3725,\n",
       " 3751,\n",
       " 3759,\n",
       " 3783,\n",
       " 3784,\n",
       " 3816,\n",
       " 3851,\n",
       " 3852,\n",
       " 3878,\n",
       " 3892,\n",
       " 3895,\n",
       " 3902,\n",
       " 3905,\n",
       " 3914,\n",
       " 3939,\n",
       " 3967,\n",
       " 4011,\n",
       " 4027,\n",
       " 4045,\n",
       " 4060,\n",
       " 4068,\n",
       " 4131,\n",
       " 4153,\n",
       " 4225,\n",
       " 4234,\n",
       " 4267,\n",
       " 4269,\n",
       " 4286,\n",
       " 4372,\n",
       " 4376,\n",
       " 4381,\n",
       " 4391,\n",
       " 4399,\n",
       " 4406,\n",
       " 4431,\n",
       " 4461,\n",
       " 4495,\n",
       " 4527,\n",
       " 4530,\n",
       " 4532,\n",
       " 4539,\n",
       " 4557,\n",
       " 4577,\n",
       " 4581,\n",
       " 4599,\n",
       " 4615,\n",
       " 4621,\n",
       " 4663,\n",
       " 4669,\n",
       " 4672,\n",
       " 4729,\n",
       " 4738,\n",
       " 4742,\n",
       " 4771,\n",
       " 4776,\n",
       " 4822,\n",
       " 4854,\n",
       " 4860,\n",
       " 4894,\n",
       " 4895,\n",
       " 4911,\n",
       " 4918,\n",
       " 4950,\n",
       " 4965,\n",
       " 4971,\n",
       " 4982,\n",
       " 4994,\n",
       " 5047,\n",
       " 5058,\n",
       " 5082,\n",
       " 5091,\n",
       " 5125,\n",
       " 5143,\n",
       " 5148,\n",
       " 5242,\n",
       " 5249,\n",
       " 5264,\n",
       " 5272,\n",
       " 5296,\n",
       " 5304,\n",
       " 5328,\n",
       " 5357,\n",
       " 5366,\n",
       " 5367,\n",
       " 5376,\n",
       " 5378,\n",
       " 5388,\n",
       " 5436,\n",
       " 5445,\n",
       " 5449,\n",
       " 5481,\n",
       " 5482,\n",
       " 5528,\n",
       " 5534,\n",
       " 5538,\n",
       " 5540,\n",
       " 5565,\n",
       " 5597,\n",
       " 5618,\n",
       " 5625,\n",
       " 5679,\n",
       " 5682,\n",
       " 5686,\n",
       " 5714,\n",
       " 5721,\n",
       " 5724,\n",
       " 5731,\n",
       " 5732,\n",
       " 5804,\n",
       " 5814,\n",
       " 5823,\n",
       " 5833,\n",
       " 5860,\n",
       " 5861,\n",
       " 5868,\n",
       " 5913,\n",
       " 5933,\n",
       " 5962,\n",
       " 5967,\n",
       " 5968,\n",
       " 5991,\n",
       " 6006,\n",
       " 6012,\n",
       " 6023,\n",
       " 6041,\n",
       " 6063,\n",
       " 6067,\n",
       " 6131,\n",
       " 6132,\n",
       " 6197,\n",
       " 6266,\n",
       " 6277,\n",
       " 6285,\n",
       " 6312,\n",
       " 6320,\n",
       " 6337,\n",
       " 6364,\n",
       " 6388,\n",
       " 6409,\n",
       " 6414,\n",
       " 6449,\n",
       " 6456,\n",
       " 6626,\n",
       " 6660,\n",
       " 6675,\n",
       " 6694,\n",
       " 6695,\n",
       " 6698,\n",
       " 6703,\n",
       " 6712,\n",
       " 6761,\n",
       " 6766,\n",
       " 6779,\n",
       " 6831,\n",
       " 6870,\n",
       " 6883,\n",
       " 6890,\n",
       " 6895,\n",
       " 6926,\n",
       " 6953,\n",
       " 6959,\n",
       " 6989,\n",
       " 7044,\n",
       " 7053,\n",
       " 7069,\n",
       " 7082,\n",
       " 7125,\n",
       " 7126,\n",
       " 7135,\n",
       " 7140,\n",
       " 7151,\n",
       " 7160,\n",
       " 7223,\n",
       " 7251,\n",
       " 7260,\n",
       " 7330,\n",
       " 7390,\n",
       " 7392,\n",
       " 7417,\n",
       " 7474,\n",
       " 7486,\n",
       " 7500,\n",
       " 7534,\n",
       " 7552,\n",
       " 7554,\n",
       " 7596,\n",
       " 7600,\n",
       " 7649,\n",
       " 7662,\n",
       " 7667,\n",
       " 7690,\n",
       " 7692,\n",
       " 7703,\n",
       " 7706,\n",
       " 7726,\n",
       " 7727,\n",
       " 7734,\n",
       " 7744,\n",
       " 7749,\n",
       " 7800,\n",
       " 7823,\n",
       " 7849,\n",
       " 7864,\n",
       " 7879,\n",
       " 7888,\n",
       " 7897,\n",
       " 7914,\n",
       " 8003,\n",
       " 8015,\n",
       " 8031,\n",
       " 8047,\n",
       " 8092,\n",
       " 8117,\n",
       " 8183,\n",
       " 8186,\n",
       " 8205,\n",
       " 8229,\n",
       " 8230,\n",
       " 8244,\n",
       " 8247,\n",
       " 8258,\n",
       " 8267,\n",
       " 8281,\n",
       " 8292,\n",
       " 8294,\n",
       " 8325,\n",
       " 8341,\n",
       " 8397,\n",
       " 8400,\n",
       " 8409,\n",
       " 8448,\n",
       " 8494,\n",
       " 8535,\n",
       " 8559,\n",
       " 8574,\n",
       " 8575,\n",
       " 8605,\n",
       " 8625,\n",
       " 8692,\n",
       " 8698,\n",
       " 8701,\n",
       " 8706,\n",
       " 8707,\n",
       " 8918,\n",
       " 8941,\n",
       " 8944,\n",
       " 8956,\n",
       " 8964,\n",
       " 9004,\n",
       " 9006,\n",
       " 9071,\n",
       " 9081,\n",
       " 9083,\n",
       " 9102,\n",
       " 9146,\n",
       " 9173,\n",
       " 9181,\n",
       " 9198,\n",
       " 9228,\n",
       " 9270,\n",
       " 9271,\n",
       " 9274,\n",
       " 9278,\n",
       " 9284,\n",
       " 9312,\n",
       " 9322,\n",
       " 9340,\n",
       " 9349,\n",
       " 9402,\n",
       " 9431,\n",
       " 9500,\n",
       " 9507,\n",
       " 9540,\n",
       " 9629,\n",
       " 9662,\n",
       " 9675,\n",
       " 9676,\n",
       " 9695,\n",
       " 9734,\n",
       " 9736,\n",
       " 9737,\n",
       " 9765,\n",
       " 9775,\n",
       " 9785,\n",
       " 9800,\n",
       " 9805,\n",
       " 9824,\n",
       " 9838,\n",
       " 9856,\n",
       " 9893,\n",
       " 9894,\n",
       " 9897,\n",
       " 9909,\n",
       " 9926,\n",
       " 9933,\n",
       " 9941,\n",
       " 9942,\n",
       " 9944,\n",
       " 9957,\n",
       " 9979]"
      ]
     },
     "execution_count": 27,
     "metadata": {},
     "output_type": "execute_result"
    }
   ],
   "source": [
    "pos_out"
   ]
  },
  {
   "cell_type": "markdown",
   "id": "5067c422",
   "metadata": {},
   "source": [
    "# REMOVING OUTLIERS"
   ]
  },
  {
   "cell_type": "code",
   "execution_count": 28,
   "id": "c4dc28c7",
   "metadata": {},
   "outputs": [],
   "source": [
    "data.drop(index=pos_out,axis=0,inplace=True)"
   ]
  },
  {
   "cell_type": "code",
   "execution_count": 29,
   "id": "9587a03f",
   "metadata": {},
   "outputs": [
    {
     "data": {
      "text/plain": [
       "(9551, 12)"
      ]
     },
     "execution_count": 29,
     "metadata": {},
     "output_type": "execute_result"
    }
   ],
   "source": [
    "data.shape"
   ]
  },
  {
   "cell_type": "markdown",
   "id": "e34afbd0",
   "metadata": {},
   "source": [
    "# CHECKING  THE DATA WHETHER IT IS BALANCED OR NOT"
   ]
  },
  {
   "cell_type": "code",
   "execution_count": 30,
   "id": "b5d8eacf",
   "metadata": {},
   "outputs": [
    {
     "data": {
      "text/plain": [
       "<Axes: xlabel='churn', ylabel='count'>"
      ]
     },
     "execution_count": 30,
     "metadata": {},
     "output_type": "execute_result"
    },
    {
     "data": {
      "image/png": "[encoded data removed]",
      "text/plain": [
       "<Figure size 640x480 with 1 Axes>"
      ]
     },
     "metadata": {},
     "output_type": "display_data"
    }
   ],
   "source": [
    "sns.countplot(x=data[\"churn\"])"
   ]
  },
  {
   "cell_type": "markdown",
   "id": "0b7c3c82",
   "metadata": {},
   "source": [
    "# DATA SPLIT "
   ]
  },
  {
   "cell_type": "code",
   "execution_count": 31,
   "id": "e199369c",
   "metadata": {},
   "outputs": [],
   "source": [
    "x=data.drop(\"churn\",axis=1)\n",
    "y=data[\"churn\"]"
   ]
  },
  {
   "cell_type": "markdown",
   "id": "58b37ef3",
   "metadata": {},
   "source": [
    "# HANDLING IMBALANCED DATA"
   ]
  },
  {
   "cell_type": "code",
   "execution_count": 32,
   "id": "f2303479",
   "metadata": {},
   "outputs": [],
   "source": [
    "from imblearn.combine import SMOTETomek"
   ]
  },
  {
   "cell_type": "code",
   "execution_count": 33,
   "id": "092130c9",
   "metadata": {},
   "outputs": [],
   "source": [
    "smk=SMOTETomek(random_state=42)\n",
    "x_res,y_res=smk.fit_resample(x,y)"
   ]
  },
  {
   "cell_type": "code",
   "execution_count": 34,
   "id": "056d67ed",
   "metadata": {},
   "outputs": [
    {
     "data": {
      "text/plain": [
       "<Axes: xlabel='churn', ylabel='count'>"
      ]
     },
     "execution_count": 34,
     "metadata": {},
     "output_type": "execute_result"
    },
    {
     "data": {
      "image/png": "[encoded data removed]",
      "text/plain": [
       "<Figure size 640x480 with 1 Axes>"
      ]
     },
     "metadata": {},
     "output_type": "display_data"
    }
   ],
   "source": [
    "sns.countplot(x=y_res)"
   ]
  },
  {
   "cell_type": "markdown",
   "id": "8348ddcf",
   "metadata": {},
   "source": [
    "# MODEL BUILDING"
   ]
  },
  {
   "cell_type": "code",
   "execution_count": 35,
   "id": "d39eb358",
   "metadata": {},
   "outputs": [],
   "source": [
    "from sklearn.model_selection import train_test_split"
   ]
  },
  {
   "cell_type": "code",
   "execution_count": 36,
   "id": "d6557446",
   "metadata": {},
   "outputs": [],
   "source": [
    "xtrain,xtest,ytrain,ytest=train_test_split(x_res,y_res,test_size=0.2,random_state=42)"
   ]
  },
  {
   "cell_type": "code",
   "execution_count": 37,
   "id": "1a081cae",
   "metadata": {},
   "outputs": [
    {
     "data": {
      "text/plain": [
       "((13481, 11), (13481,))"
      ]
     },
     "execution_count": 37,
     "metadata": {},
     "output_type": "execute_result"
    }
   ],
   "source": [
    "xtrain.shape,ytrain.shape"
   ]
  },
  {
   "cell_type": "code",
   "execution_count": 38,
   "id": "ccc4212a",
   "metadata": {},
   "outputs": [
    {
     "data": {
      "text/plain": [
       "((3371, 11), (3371,))"
      ]
     },
     "execution_count": 38,
     "metadata": {},
     "output_type": "execute_result"
    }
   ],
   "source": [
    "xtest.shape,ytest.shape"
   ]
  },
  {
   "cell_type": "markdown",
   "id": "c4134816",
   "metadata": {},
   "source": [
    "# LOGISTIC REGRESSION"
   ]
  },
  {
   "cell_type": "code",
   "execution_count": 39,
   "id": "e76fd384",
   "metadata": {},
   "outputs": [],
   "source": [
    " from sklearn.linear_model import LogisticRegression"
   ]
  },
  {
   "cell_type": "code",
   "execution_count": 40,
   "id": "fc160764",
   "metadata": {},
   "outputs": [],
   "source": [
    "model=LogisticRegression()"
   ]
  },
  {
   "cell_type": "code",
   "execution_count": 41,
   "id": "4dcfdac2",
   "metadata": {},
   "outputs": [
    {
     "data": {
      "text/html": [
       "<style>#sk-container-id-1 {color: black;}#sk-container-id-1 pre{padding: 0;}#sk-container-id-1 div.sk-toggleable {background-color: white;}#sk-container-id-1 label.sk-toggleable__label {cursor: pointer;display: block;width: 100%;margin-bottom: 0;padding: 0.3em;box-sizing: border-box;text-align: center;}#sk-container-id-1 label.sk-toggleable__label-arrow:before {content: \"▸\";float: left;margin-right: 0.25em;color: #696969;}#sk-container-id-1 label.sk-toggleable__label-arrow:hover:before {color: black;}#sk-container-id-1 div.sk-estimator:hover label.sk-toggleable__label-arrow:before {color: black;}#sk-container-id-1 div.sk-toggleable__content {max-height: 0;max-width: 0;overflow: hidden;text-align: left;background-color: #f0f8ff;}#sk-container-id-1 div.sk-toggleable__content pre {margin: 0.2em;color: black;border-radius: 0.25em;background-color: #f0f8ff;}#sk-container-id-1 input.sk-toggleable__control:checked~div.sk-toggleable__content {max-height: 200px;max-width: 100%;overflow: auto;}#sk-container-id-1 input.sk-toggleable__control:checked~label.sk-toggleable__label-arrow:before {content: \"▾\";}#sk-container-id-1 div.sk-estimator input.sk-toggleable__control:checked~label.sk-toggleable__label {background-color: #d4ebff;}#sk-container-id-1 div.sk-label input.sk-toggleable__control:checked~label.sk-toggleable__label {background-color: #d4ebff;}#sk-container-id-1 input.sk-hidden--visually {border: 0;clip: rect(1px 1px 1px 1px);clip: rect(1px, 1px, 1px, 1px);height: 1px;margin: -1px;overflow: hidden;padding: 0;position: absolute;width: 1px;}#sk-container-id-1 div.sk-estimator {font-family: monospace;background-color: #f0f8ff;border: 1px dotted black;border-radius: 0.25em;box-sizing: border-box;margin-bottom: 0.5em;}#sk-container-id-1 div.sk-estimator:hover {background-color: #d4ebff;}#sk-container-id-1 div.sk-parallel-item::after {content: \"\";width: 100%;border-bottom: 1px solid gray;flex-grow: 1;}#sk-container-id-1 div.sk-label:hover label.sk-toggleable__label {background-color: #d4ebff;}#sk-container-id-1 div.sk-serial::before {content: \"\";position: absolute;border-left: 1px solid gray;box-sizing: border-box;top: 0;bottom: 0;left: 50%;z-index: 0;}#sk-container-id-1 div.sk-serial {display: flex;flex-direction: column;align-items: center;background-color: white;padding-right: 0.2em;padding-left: 0.2em;position: relative;}#sk-container-id-1 div.sk-item {position: relative;z-index: 1;}#sk-container-id-1 div.sk-parallel {display: flex;align-items: stretch;justify-content: center;background-color: white;position: relative;}#sk-container-id-1 div.sk-item::before, #sk-container-id-1 div.sk-parallel-item::before {content: \"\";position: absolute;border-left: 1px solid gray;box-sizing: border-box;top: 0;bottom: 0;left: 50%;z-index: -1;}#sk-container-id-1 div.sk-parallel-item {display: flex;flex-direction: column;z-index: 1;position: relative;background-color: white;}#sk-container-id-1 div.sk-parallel-item:first-child::after {align-self: flex-end;width: 50%;}#sk-container-id-1 div.sk-parallel-item:last-child::after {align-self: flex-start;width: 50%;}#sk-container-id-1 div.sk-parallel-item:only-child::after {width: 0;}#sk-container-id-1 div.sk-dashed-wrapped {border: 1px dashed gray;margin: 0 0.4em 0.5em 0.4em;box-sizing: border-box;padding-bottom: 0.4em;background-color: white;}#sk-container-id-1 div.sk-label label {font-family: monospace;font-weight: bold;display: inline-block;line-height: 1.2em;}#sk-container-id-1 div.sk-label-container {text-align: center;}#sk-container-id-1 div.sk-container {/* jupyter's `normalize.less` sets `[hidden] { display: none; }` but bootstrap.min.css set `[hidden] { display: none !important; }` so we also need the `!important` here to be able to override the default hidden behavior on the sphinx rendered scikit-learn.org. See: https://github.com/scikit-learn/scikit-learn/issues/21755 */display: inline-block !important;position: relative;}#sk-container-id-1 div.sk-text-repr-fallback {display: none;}</style><div id=\"sk-container-id-1\" class=\"sk-top-container\"><div class=\"sk-text-repr-fallback\"><pre>LogisticRegression()</pre><b>In a Jupyter environment, please rerun this cell to show the HTML representation or trust the notebook. <br />On GitHub, the HTML representation is unable to render, please try loading this page with nbviewer.org.</b></div><div class=\"sk-container\" hidden><div class=\"sk-item\"><div class=\"sk-estimator sk-toggleable\"><input class=\"sk-toggleable__control sk-hidden--visually\" id=\"sk-estimator-id-1\" type=\"checkbox\" checked><label for=\"sk-estimator-id-1\" class=\"sk-toggleable__label sk-toggleable__label-arrow\">LogisticRegression</label><div class=\"sk-toggleable__content\"><pre>LogisticRegression()</pre></div></div></div></div></div>"
      ],
      "text/plain": [
       "LogisticRegression()"
      ]
     },
     "execution_count": 41,
     "metadata": {},
     "output_type": "execute_result"
    }
   ],
   "source": [
    "model.fit(xtrain, ytrain)"
   ]
  },
  {
   "cell_type": "code",
   "execution_count": 42,
   "id": "c586e90f",
   "metadata": {},
   "outputs": [],
   "source": [
    "predict=model.predict(xtest)"
   ]
  },
  {
   "cell_type": "code",
   "execution_count": 43,
   "id": "472ac7d9",
   "metadata": {},
   "outputs": [],
   "source": [
    "from sklearn.metrics import confusion_matrix,accuracy_score"
   ]
  },
  {
   "cell_type": "code",
   "execution_count": 44,
   "id": "e19c3039",
   "metadata": {},
   "outputs": [],
   "source": [
    "tn,fp,fn,tp=confusion_matrix(ytest,predict).ravel()"
   ]
  },
  {
   "cell_type": "code",
   "execution_count": 45,
   "id": "553efc0a",
   "metadata": {},
   "outputs": [
    {
     "data": {
      "text/plain": [
       "(1267, 437, 375, 1292)"
      ]
     },
     "execution_count": 45,
     "metadata": {},
     "output_type": "execute_result"
    }
   ],
   "source": [
    "tn,fp,fn,tp"
   ]
  },
  {
   "cell_type": "code",
   "execution_count": 46,
   "id": "2ac7f8a0",
   "metadata": {},
   "outputs": [],
   "source": [
    "lr_accuracy=(tp+tn)/(tn+fp+fn+tp)"
   ]
  },
  {
   "cell_type": "code",
   "execution_count": 47,
   "id": "4f1cd5e2",
   "metadata": {},
   "outputs": [
    {
     "data": {
      "text/plain": [
       "0.7591219222782557"
      ]
     },
     "execution_count": 47,
     "metadata": {},
     "output_type": "execute_result"
    }
   ],
   "source": [
    "lr_accuracy"
   ]
  },
  {
   "cell_type": "code",
   "execution_count": 48,
   "id": "0ef5476f",
   "metadata": {},
   "outputs": [
    {
     "name": "stdout",
     "output_type": "stream",
     "text": [
      "              precision    recall  f1-score   support\n",
      "\n",
      "           0       0.77      0.74      0.76      1704\n",
      "           1       0.75      0.78      0.76      1667\n",
      "\n",
      "    accuracy                           0.76      3371\n",
      "   macro avg       0.76      0.76      0.76      3371\n",
      "weighted avg       0.76      0.76      0.76      3371\n",
      "\n"
     ]
    }
   ],
   "source": [
    "from sklearn.metrics import classification_report\n",
    "print(classification_report(ytest,predict))"
   ]
  },
  {
   "cell_type": "markdown",
   "id": "994eec2a",
   "metadata": {},
   "source": [
    "# RANDOM FOREST"
   ]
  },
  {
   "cell_type": "code",
   "execution_count": 49,
   "id": "f2fb7797",
   "metadata": {},
   "outputs": [],
   "source": [
    "from sklearn.ensemble import RandomForestClassifier"
   ]
  },
  {
   "cell_type": "code",
   "execution_count": 50,
   "id": "0d468234",
   "metadata": {},
   "outputs": [],
   "source": [
    "rf_classifier = RandomForestClassifier(n_estimators=100, random_state=42)"
   ]
  },
  {
   "cell_type": "code",
   "execution_count": 51,
   "id": "b6c8605c",
   "metadata": {},
   "outputs": [
    {
     "data": {
      "text/html": [
       "<style>#sk-container-id-2 {color: black;}#sk-container-id-2 pre{padding: 0;}#sk-container-id-2 div.sk-toggleable {background-color: white;}#sk-container-id-2 label.sk-toggleable__label {cursor: pointer;display: block;width: 100%;margin-bottom: 0;padding: 0.3em;box-sizing: border-box;text-align: center;}#sk-container-id-2 label.sk-toggleable__label-arrow:before {content: \"▸\";float: left;margin-right: 0.25em;color: #696969;}#sk-container-id-2 label.sk-toggleable__label-arrow:hover:before {color: black;}#sk-container-id-2 div.sk-estimator:hover label.sk-toggleable__label-arrow:before {color: black;}#sk-container-id-2 div.sk-toggleable__content {max-height: 0;max-width: 0;overflow: hidden;text-align: left;background-color: #f0f8ff;}#sk-container-id-2 div.sk-toggleable__content pre {margin: 0.2em;color: black;border-radius: 0.25em;background-color: #f0f8ff;}#sk-container-id-2 input.sk-toggleable__control:checked~div.sk-toggleable__content {max-height: 200px;max-width: 100%;overflow: auto;}#sk-container-id-2 input.sk-toggleable__control:checked~label.sk-toggleable__label-arrow:before {content: \"▾\";}#sk-container-id-2 div.sk-estimator input.sk-toggleable__control:checked~label.sk-toggleable__label {background-color: #d4ebff;}#sk-container-id-2 div.sk-label input.sk-toggleable__control:checked~label.sk-toggleable__label {background-color: #d4ebff;}#sk-container-id-2 input.sk-hidden--visually {border: 0;clip: rect(1px 1px 1px 1px);clip: rect(1px, 1px, 1px, 1px);height: 1px;margin: -1px;overflow: hidden;padding: 0;position: absolute;width: 1px;}#sk-container-id-2 div.sk-estimator {font-family: monospace;background-color: #f0f8ff;border: 1px dotted black;border-radius: 0.25em;box-sizing: border-box;margin-bottom: 0.5em;}#sk-container-id-2 div.sk-estimator:hover {background-color: #d4ebff;}#sk-container-id-2 div.sk-parallel-item::after {content: \"\";width: 100%;border-bottom: 1px solid gray;flex-grow: 1;}#sk-container-id-2 div.sk-label:hover label.sk-toggleable__label {background-color: #d4ebff;}#sk-container-id-2 div.sk-serial::before {content: \"\";position: absolute;border-left: 1px solid gray;box-sizing: border-box;top: 0;bottom: 0;left: 50%;z-index: 0;}#sk-container-id-2 div.sk-serial {display: flex;flex-direction: column;align-items: center;background-color: white;padding-right: 0.2em;padding-left: 0.2em;position: relative;}#sk-container-id-2 div.sk-item {position: relative;z-index: 1;}#sk-container-id-2 div.sk-parallel {display: flex;align-items: stretch;justify-content: center;background-color: white;position: relative;}#sk-container-id-2 div.sk-item::before, #sk-container-id-2 div.sk-parallel-item::before {content: \"\";position: absolute;border-left: 1px solid gray;box-sizing: border-box;top: 0;bottom: 0;left: 50%;z-index: -1;}#sk-container-id-2 div.sk-parallel-item {display: flex;flex-direction: column;z-index: 1;position: relative;background-color: white;}#sk-container-id-2 div.sk-parallel-item:first-child::after {align-self: flex-end;width: 50%;}#sk-container-id-2 div.sk-parallel-item:last-child::after {align-self: flex-start;width: 50%;}#sk-container-id-2 div.sk-parallel-item:only-child::after {width: 0;}#sk-container-id-2 div.sk-dashed-wrapped {border: 1px dashed gray;margin: 0 0.4em 0.5em 0.4em;box-sizing: border-box;padding-bottom: 0.4em;background-color: white;}#sk-container-id-2 div.sk-label label {font-family: monospace;font-weight: bold;display: inline-block;line-height: 1.2em;}#sk-container-id-2 div.sk-label-container {text-align: center;}#sk-container-id-2 div.sk-container {/* jupyter's `normalize.less` sets `[hidden] { display: none; }` but bootstrap.min.css set `[hidden] { display: none !important; }` so we also need the `!important` here to be able to override the default hidden behavior on the sphinx rendered scikit-learn.org. See: https://github.com/scikit-learn/scikit-learn/issues/21755 */display: inline-block !important;position: relative;}#sk-container-id-2 div.sk-text-repr-fallback {display: none;}</style><div id=\"sk-container-id-2\" class=\"sk-top-container\"><div class=\"sk-text-repr-fallback\"><pre>RandomForestClassifier(random_state=42)</pre><b>In a Jupyter environment, please rerun this cell to show the HTML representation or trust the notebook. <br />On GitHub, the HTML representation is unable to render, please try loading this page with nbviewer.org.</b></div><div class=\"sk-container\" hidden><div class=\"sk-item\"><div class=\"sk-estimator sk-toggleable\"><input class=\"sk-toggleable__control sk-hidden--visually\" id=\"sk-estimator-id-2\" type=\"checkbox\" checked><label for=\"sk-estimator-id-2\" class=\"sk-toggleable__label sk-toggleable__label-arrow\">RandomForestClassifier</label><div class=\"sk-toggleable__content\"><pre>RandomForestClassifier(random_state=42)</pre></div></div></div></div></div>"
      ],
      "text/plain": [
       "RandomForestClassifier(random_state=42)"
      ]
     },
     "execution_count": 51,
     "metadata": {},
     "output_type": "execute_result"
    }
   ],
   "source": [
    "rf_classifier.fit(xtrain, ytrain)"
   ]
  },
  {
   "cell_type": "code",
   "execution_count": 52,
   "id": "a0edfab3",
   "metadata": {},
   "outputs": [],
   "source": [
    "y_pred = rf_classifier.predict(xtest)"
   ]
  },
  {
   "cell_type": "code",
   "execution_count": 53,
   "id": "41c2a451",
   "metadata": {},
   "outputs": [
    {
     "name": "stdout",
     "output_type": "stream",
     "text": [
      "Accuracy: 0.9531296351231089\n"
     ]
    }
   ],
   "source": [
    "rf_accuracy = accuracy_score(ytest, y_pred)\n",
    "print(f\"Accuracy: {rf_accuracy}\")"
   ]
  },
  {
   "cell_type": "code",
   "execution_count": 54,
   "id": "f94ed165",
   "metadata": {},
   "outputs": [
    {
     "name": "stdout",
     "output_type": "stream",
     "text": [
      "              precision    recall  f1-score   support\n",
      "\n",
      "           0       0.95      0.96      0.95      1704\n",
      "           1       0.95      0.95      0.95      1667\n",
      "\n",
      "    accuracy                           0.95      3371\n",
      "   macro avg       0.95      0.95      0.95      3371\n",
      "weighted avg       0.95      0.95      0.95      3371\n",
      "\n"
     ]
    }
   ],
   "source": [
    "print(classification_report(ytest,y_pred))"
   ]
  },
  {
   "cell_type": "markdown",
   "id": "a07577e0",
   "metadata": {},
   "source": [
    "# GRADIENT BOOSTING"
   ]
  },
  {
   "cell_type": "code",
   "execution_count": 55,
   "id": "90af6e3e",
   "metadata": {},
   "outputs": [],
   "source": [
    "from sklearn.ensemble import GradientBoostingClassifier"
   ]
  },
  {
   "cell_type": "code",
   "execution_count": 56,
   "id": "2155771e",
   "metadata": {},
   "outputs": [],
   "source": [
    "gb_classifier = GradientBoostingClassifier(n_estimators=100, learning_rate=0.1, random_state=42)"
   ]
  },
  {
   "cell_type": "code",
   "execution_count": 57,
   "id": "9d2b57b6",
   "metadata": {},
   "outputs": [
    {
     "data": {
      "text/html": [
       "<style>#sk-container-id-3 {color: black;}#sk-container-id-3 pre{padding: 0;}#sk-container-id-3 div.sk-toggleable {background-color: white;}#sk-container-id-3 label.sk-toggleable__label {cursor: pointer;display: block;width: 100%;margin-bottom: 0;padding: 0.3em;box-sizing: border-box;text-align: center;}#sk-container-id-3 label.sk-toggleable__label-arrow:before {content: \"▸\";float: left;margin-right: 0.25em;color: #696969;}#sk-container-id-3 label.sk-toggleable__label-arrow:hover:before {color: black;}#sk-container-id-3 div.sk-estimator:hover label.sk-toggleable__label-arrow:before {color: black;}#sk-container-id-3 div.sk-toggleable__content {max-height: 0;max-width: 0;overflow: hidden;text-align: left;background-color: #f0f8ff;}#sk-container-id-3 div.sk-toggleable__content pre {margin: 0.2em;color: black;border-radius: 0.25em;background-color: #f0f8ff;}#sk-container-id-3 input.sk-toggleable__control:checked~div.sk-toggleable__content {max-height: 200px;max-width: 100%;overflow: auto;}#sk-container-id-3 input.sk-toggleable__control:checked~label.sk-toggleable__label-arrow:before {content: \"▾\";}#sk-container-id-3 div.sk-estimator input.sk-toggleable__control:checked~label.sk-toggleable__label {background-color: #d4ebff;}#sk-container-id-3 div.sk-label input.sk-toggleable__control:checked~label.sk-toggleable__label {background-color: #d4ebff;}#sk-container-id-3 input.sk-hidden--visually {border: 0;clip: rect(1px 1px 1px 1px);clip: rect(1px, 1px, 1px, 1px);height: 1px;margin: -1px;overflow: hidden;padding: 0;position: absolute;width: 1px;}#sk-container-id-3 div.sk-estimator {font-family: monospace;background-color: #f0f8ff;border: 1px dotted black;border-radius: 0.25em;box-sizing: border-box;margin-bottom: 0.5em;}#sk-container-id-3 div.sk-estimator:hover {background-color: #d4ebff;}#sk-container-id-3 div.sk-parallel-item::after {content: \"\";width: 100%;border-bottom: 1px solid gray;flex-grow: 1;}#sk-container-id-3 div.sk-label:hover label.sk-toggleable__label {background-color: #d4ebff;}#sk-container-id-3 div.sk-serial::before {content: \"\";position: absolute;border-left: 1px solid gray;box-sizing: border-box;top: 0;bottom: 0;left: 50%;z-index: 0;}#sk-container-id-3 div.sk-serial {display: flex;flex-direction: column;align-items: center;background-color: white;padding-right: 0.2em;padding-left: 0.2em;position: relative;}#sk-container-id-3 div.sk-item {position: relative;z-index: 1;}#sk-container-id-3 div.sk-parallel {display: flex;align-items: stretch;justify-content: center;background-color: white;position: relative;}#sk-container-id-3 div.sk-item::before, #sk-container-id-3 div.sk-parallel-item::before {content: \"\";position: absolute;border-left: 1px solid gray;box-sizing: border-box;top: 0;bottom: 0;left: 50%;z-index: -1;}#sk-container-id-3 div.sk-parallel-item {display: flex;flex-direction: column;z-index: 1;position: relative;background-color: white;}#sk-container-id-3 div.sk-parallel-item:first-child::after {align-self: flex-end;width: 50%;}#sk-container-id-3 div.sk-parallel-item:last-child::after {align-self: flex-start;width: 50%;}#sk-container-id-3 div.sk-parallel-item:only-child::after {width: 0;}#sk-container-id-3 div.sk-dashed-wrapped {border: 1px dashed gray;margin: 0 0.4em 0.5em 0.4em;box-sizing: border-box;padding-bottom: 0.4em;background-color: white;}#sk-container-id-3 div.sk-label label {font-family: monospace;font-weight: bold;display: inline-block;line-height: 1.2em;}#sk-container-id-3 div.sk-label-container {text-align: center;}#sk-container-id-3 div.sk-container {/* jupyter's `normalize.less` sets `[hidden] { display: none; }` but bootstrap.min.css set `[hidden] { display: none !important; }` so we also need the `!important` here to be able to override the default hidden behavior on the sphinx rendered scikit-learn.org. See: https://github.com/scikit-learn/scikit-learn/issues/21755 */display: inline-block !important;position: relative;}#sk-container-id-3 div.sk-text-repr-fallback {display: none;}</style><div id=\"sk-container-id-3\" class=\"sk-top-container\"><div class=\"sk-text-repr-fallback\"><pre>GradientBoostingClassifier(random_state=42)</pre><b>In a Jupyter environment, please rerun this cell to show the HTML representation or trust the notebook. <br />On GitHub, the HTML representation is unable to render, please try loading this page with nbviewer.org.</b></div><div class=\"sk-container\" hidden><div class=\"sk-item\"><div class=\"sk-estimator sk-toggleable\"><input class=\"sk-toggleable__control sk-hidden--visually\" id=\"sk-estimator-id-3\" type=\"checkbox\" checked><label for=\"sk-estimator-id-3\" class=\"sk-toggleable__label sk-toggleable__label-arrow\">GradientBoostingClassifier</label><div class=\"sk-toggleable__content\"><pre>GradientBoostingClassifier(random_state=42)</pre></div></div></div></div></div>"
      ],
      "text/plain": [
       "GradientBoostingClassifier(random_state=42)"
      ]
     },
     "execution_count": 57,
     "metadata": {},
     "output_type": "execute_result"
    }
   ],
   "source": [
    "gb_classifier.fit(xtrain, ytrain)\n"
   ]
  },
  {
   "cell_type": "code",
   "execution_count": 58,
   "id": "a0db4ad1",
   "metadata": {},
   "outputs": [],
   "source": [
    "y_predgb = gb_classifier.predict(xtest)"
   ]
  },
  {
   "cell_type": "code",
   "execution_count": 59,
   "id": "163fb486",
   "metadata": {},
   "outputs": [
    {
     "name": "stdout",
     "output_type": "stream",
     "text": [
      "Accuracy: 0.928211213289825\n"
     ]
    }
   ],
   "source": [
    "gb_accuracy = accuracy_score(ytest, y_predgb)\n",
    "print(f\"Accuracy: {gb_accuracy}\")"
   ]
  },
  {
   "cell_type": "code",
   "execution_count": 60,
   "id": "0184842c",
   "metadata": {},
   "outputs": [
    {
     "name": "stdout",
     "output_type": "stream",
     "text": [
      "              precision    recall  f1-score   support\n",
      "\n",
      "           0       0.91      0.95      0.93      1704\n",
      "           1       0.95      0.91      0.93      1667\n",
      "\n",
      "    accuracy                           0.93      3371\n",
      "   macro avg       0.93      0.93      0.93      3371\n",
      "weighted avg       0.93      0.93      0.93      3371\n",
      "\n"
     ]
    }
   ],
   "source": [
    "print(classification_report(ytest,y_predgb))"
   ]
  },
  {
   "cell_type": "markdown",
   "id": "48870632",
   "metadata": {},
   "source": [
    "# ACCURACY OF THREE MODEL"
   ]
  },
  {
   "cell_type": "code",
   "execution_count": 61,
   "id": "09097a4f",
   "metadata": {},
   "outputs": [
    {
     "name": "stdout",
     "output_type": "stream",
     "text": [
      "                        Model  Accuracy Score\n",
      "0         Logistic Regression        0.759122\n",
      "1     RandomForest Classifier        0.953130\n",
      "2  GradientBoostingClassifier        0.928211\n"
     ]
    }
   ],
   "source": [
    "data = {'Model':['Logistic Regression','RandomForest Classifier', 'GradientBoostingClassifier' ],\n",
    "        \n",
    "        'Accuracy Score':[lr_accuracy,rf_accuracy,gb_accuracy]}\n",
    "\n",
    "comparing_model=pd.DataFrame(data)                               \n",
    "print(comparing_model)"
   ]
  },
  {
   "cell_type": "markdown",
   "id": "6c846c03",
   "metadata": {},
   "source": [
    "# Comparing these models Random Forest has highest Accuracy"
   ]
  },
  {
   "cell_type": "markdown",
   "id": "6a48db5c",
   "metadata": {},
   "source": [
    "#  PREDICTION\n"
   ]
  },
  {
   "cell_type": "code",
   "execution_count": 62,
   "id": "36a8ca15",
   "metadata": {},
   "outputs": [],
   "source": [
    "import pickle\n",
    "file_name = 'savemodel.sav'\n",
    "pickle.dump(rf_classifier,open(file_name,'wb'))"
   ]
  },
  {
   "cell_type": "code",
   "execution_count": 63,
   "id": "507e0c96",
   "metadata": {},
   "outputs": [
    {
     "data": {
      "text/html": [
       "<div>\n",
       "<style scoped>\n",
       "    .dataframe tbody tr th:only-of-type {\n",
       "        vertical-align: middle;\n",
       "    }\n",
       "\n",
       "    .dataframe tbody tr th {\n",
       "        vertical-align: top;\n",
       "    }\n",
       "\n",
       "    .dataframe thead th {\n",
       "        text-align: right;\n",
       "    }\n",
       "</style>\n",
       "<table border=\"1\" class=\"dataframe\">\n",
       "  <thead>\n",
       "    <tr style=\"text-align: right;\">\n",
       "      <th></th>\n",
       "      <th>gender</th>\n",
       "      <th>no_of_days_subscribed</th>\n",
       "      <th>multi_screen</th>\n",
       "      <th>mail_subscribed</th>\n",
       "      <th>weekly_mins_watched</th>\n",
       "      <th>minimum_daily_mins</th>\n",
       "      <th>maximum_daily_mins</th>\n",
       "      <th>weekly_max_night_mins</th>\n",
       "      <th>videos_watched</th>\n",
       "      <th>maximum_days_inactive</th>\n",
       "      <th>customer_support_calls</th>\n",
       "    </tr>\n",
       "  </thead>\n",
       "  <tbody>\n",
       "    <tr>\n",
       "      <th>11507</th>\n",
       "      <td>0</td>\n",
       "      <td>45</td>\n",
       "      <td>0</td>\n",
       "      <td>0</td>\n",
       "      <td>229.131758</td>\n",
       "      <td>10.907504</td>\n",
       "      <td>25.971949</td>\n",
       "      <td>101</td>\n",
       "      <td>3</td>\n",
       "      <td>3.44219</td>\n",
       "      <td>5.115620</td>\n",
       "    </tr>\n",
       "    <tr>\n",
       "      <th>7895</th>\n",
       "      <td>0</td>\n",
       "      <td>80</td>\n",
       "      <td>0</td>\n",
       "      <td>0</td>\n",
       "      <td>249.100000</td>\n",
       "      <td>12.100000</td>\n",
       "      <td>28.320000</td>\n",
       "      <td>104</td>\n",
       "      <td>6</td>\n",
       "      <td>4.00000</td>\n",
       "      <td>1.000000</td>\n",
       "    </tr>\n",
       "    <tr>\n",
       "      <th>6264</th>\n",
       "      <td>0</td>\n",
       "      <td>120</td>\n",
       "      <td>0</td>\n",
       "      <td>0</td>\n",
       "      <td>413.850000</td>\n",
       "      <td>11.000000</td>\n",
       "      <td>47.180000</td>\n",
       "      <td>109</td>\n",
       "      <td>6</td>\n",
       "      <td>3.00000</td>\n",
       "      <td>1.000000</td>\n",
       "    </tr>\n",
       "    <tr>\n",
       "      <th>5456</th>\n",
       "      <td>1</td>\n",
       "      <td>125</td>\n",
       "      <td>0</td>\n",
       "      <td>0</td>\n",
       "      <td>261.000000</td>\n",
       "      <td>12.400000</td>\n",
       "      <td>29.580000</td>\n",
       "      <td>102</td>\n",
       "      <td>3</td>\n",
       "      <td>4.00000</td>\n",
       "      <td>5.000000</td>\n",
       "    </tr>\n",
       "    <tr>\n",
       "      <th>9838</th>\n",
       "      <td>1</td>\n",
       "      <td>117</td>\n",
       "      <td>0</td>\n",
       "      <td>0</td>\n",
       "      <td>229.551454</td>\n",
       "      <td>8.582849</td>\n",
       "      <td>26.013831</td>\n",
       "      <td>91</td>\n",
       "      <td>6</td>\n",
       "      <td>3.00000</td>\n",
       "      <td>2.085757</td>\n",
       "    </tr>\n",
       "  </tbody>\n",
       "</table>\n",
       "</div>"
      ],
      "text/plain": [
       "       gender  no_of_days_subscribed  multi_screen  mail_subscribed  \\\n",
       "11507       0                     45             0                0   \n",
       "7895        0                     80             0                0   \n",
       "6264        0                    120             0                0   \n",
       "5456        1                    125             0                0   \n",
       "9838        1                    117             0                0   \n",
       "\n",
       "       weekly_mins_watched  minimum_daily_mins  maximum_daily_mins  \\\n",
       "11507           229.131758           10.907504           25.971949   \n",
       "7895            249.100000           12.100000           28.320000   \n",
       "6264            413.850000           11.000000           47.180000   \n",
       "5456            261.000000           12.400000           29.580000   \n",
       "9838            229.551454            8.582849           26.013831   \n",
       "\n",
       "       weekly_max_night_mins  videos_watched  maximum_days_inactive  \\\n",
       "11507                    101               3                3.44219   \n",
       "7895                     104               6                4.00000   \n",
       "6264                     109               6                3.00000   \n",
       "5456                     102               3                4.00000   \n",
       "9838                      91               6                3.00000   \n",
       "\n",
       "       customer_support_calls  \n",
       "11507                5.115620  \n",
       "7895                 1.000000  \n",
       "6264                 1.000000  \n",
       "5456                 5.000000  \n",
       "9838                 2.085757  "
      ]
     },
     "execution_count": 63,
     "metadata": {},
     "output_type": "execute_result"
    }
   ],
   "source": [
    "xtest.head()"
   ]
  },
  {
   "cell_type": "code",
   "execution_count": 64,
   "id": "c1198846",
   "metadata": {},
   "outputs": [],
   "source": [
    "load_model = pickle.load(open(file_name,'rb'))"
   ]
  },
  {
   "cell_type": "code",
   "execution_count": 65,
   "id": "c860a5c9",
   "metadata": {},
   "outputs": [
    {
     "data": {
      "text/plain": [
       "array([0], dtype=int64)"
      ]
     },
     "execution_count": 65,
     "metadata": {},
     "output_type": "execute_result"
    }
   ],
   "source": [
    "load_model.predict([[0,178,0,0,372,6.1,42,104,2,2,1]])"
   ]
  },
  {
   "cell_type": "markdown",
   "id": "9d23f00b",
   "metadata": {},
   "source": [
    "# churned=1\n",
    "   "
   ]
  },
  {
   "cell_type": "markdown",
   "id": "99dbbf4f",
   "metadata": {},
   "source": [
    "#  Not churned=0"
   ]
  }
 ],
 "metadata": {
  "kernelspec": {
   "display_name": "Python 3 (ipykernel)",
   "language": "python",
   "name": "python3"
  },
  "language_info": {
   "codemirror_mode": {
    "name": "ipython",
    "version": 3
   },
   "file_extension": ".py",
   "mimetype": "text/x-python",
   "name": "python",
   "nbconvert_exporter": "python",
   "pygments_lexer": "ipython3",
   "version": "3.11.7"
  },
  "toc": {
   "base_numbering": 1,
   "nav_menu": {},
   "number_sections": true,
   "sideBar": true,
   "skip_h1_title": false,
   "title_cell": "Table of Contents",
   "title_sidebar": "Contents",
   "toc_cell": false,
   "toc_position": {},
   "toc_section_display": true,
   "toc_window_display": false
  },
  "varInspector": {
   "cols": {
    "lenName": 16,
    "lenType": 16,
    "lenVar": 40
   },
   "kernels_config": {
    "python": {
     "delete_cmd_postfix": "",
     "delete_cmd_prefix": "del ",
     "library": "var_list.py",
     "varRefreshCmd": "print(var_dic_list())"
    },
    "r": {
     "delete_cmd_postfix": ") ",
     "delete_cmd_prefix": "rm(",
     "library": "var_list.r",
     "varRefreshCmd": "cat(var_dic_list()) "
    }
   },
   "types_to_exclude": [
    "module",
    "function",
    "builtin_function_or_method",
    "instance",
    "_Feature"
   ],
   "window_display": false
  }
 },
 "nbformat": 4,
 "nbformat_minor": 5
}
